{
 "cells": [
  {
   "cell_type": "code",
   "execution_count": 26,
   "id": "2e814c9f",
   "metadata": {},
   "outputs": [
    {
     "name": "stdout",
     "output_type": "stream",
     "text": [
      "30\n"
     ]
    }
   ],
   "source": [
    "a = 10\n",
    "b= 20\n",
    "c = a+b\n",
    "print(c)"
   ]
  },
  {
   "cell_type": "code",
   "execution_count": 12,
   "id": "ed06deb5",
   "metadata": {},
   "outputs": [],
   "source": [
    "\n",
    "# compile time error(systax error) and run time error(exception error)."
   ]
  },
  {
   "cell_type": "code",
   "execution_count": 16,
   "id": "39a09cb1",
   "metadata": {},
   "outputs": [],
   "source": [
    "# sorce code --> compile code --> byte code --> interpritor"
   ]
  },
  {
   "cell_type": "code",
   "execution_count": 20,
   "id": "e33b11dc",
   "metadata": {},
   "outputs": [
    {
     "name": "stdout",
     "output_type": "stream",
     "text": [
      "enter the first number10\n",
      "enter the second number0\n"
     ]
    },
    {
     "ename": "ZeroDivisionError",
     "evalue": "division by zero",
     "output_type": "error",
     "traceback": [
      "\u001b[0;31m---------------------------------------------------------------------------\u001b[0m",
      "\u001b[0;31mZeroDivisionError\u001b[0m                         Traceback (most recent call last)",
      "\u001b[0;32m/tmp/ipykernel_45178/118527841.py\u001b[0m in \u001b[0;36m<module>\u001b[0;34m\u001b[0m\n\u001b[1;32m      1\u001b[0m \u001b[0ma\u001b[0m \u001b[0;34m=\u001b[0m \u001b[0mint\u001b[0m\u001b[0;34m(\u001b[0m\u001b[0minput\u001b[0m\u001b[0;34m(\u001b[0m\u001b[0;34m\"enter the first number\"\u001b[0m\u001b[0;34m)\u001b[0m\u001b[0;34m)\u001b[0m\u001b[0;34m\u001b[0m\u001b[0;34m\u001b[0m\u001b[0m\n\u001b[1;32m      2\u001b[0m \u001b[0mb\u001b[0m \u001b[0;34m=\u001b[0m\u001b[0mint\u001b[0m\u001b[0;34m(\u001b[0m\u001b[0minput\u001b[0m\u001b[0;34m(\u001b[0m\u001b[0;34m\"enter the second number\"\u001b[0m\u001b[0;34m)\u001b[0m\u001b[0;34m)\u001b[0m\u001b[0;34m\u001b[0m\u001b[0;34m\u001b[0m\u001b[0m\n\u001b[0;32m----> 3\u001b[0;31m \u001b[0mc\u001b[0m \u001b[0;34m=\u001b[0m \u001b[0ma\u001b[0m\u001b[0;34m/\u001b[0m\u001b[0mb\u001b[0m\u001b[0;34m\u001b[0m\u001b[0;34m\u001b[0m\u001b[0m\n\u001b[0m\u001b[1;32m      4\u001b[0m \u001b[0mprint\u001b[0m\u001b[0;34m(\u001b[0m\u001b[0mc\u001b[0m\u001b[0;34m)\u001b[0m\u001b[0;34m\u001b[0m\u001b[0;34m\u001b[0m\u001b[0m\n\u001b[1;32m      5\u001b[0m \u001b[0md\u001b[0m \u001b[0;34m=\u001b[0m \u001b[0ma\u001b[0m\u001b[0;34m*\u001b[0m\u001b[0mb\u001b[0m\u001b[0;34m\u001b[0m\u001b[0;34m\u001b[0m\u001b[0m\n",
      "\u001b[0;31mZeroDivisionError\u001b[0m: division by zero"
     ]
    }
   ],
   "source": [
    "a = int(input(\"enter the first number\"))\n",
    "b =int(input(\"enter the second number\"))\n",
    "c = a/b\n",
    "print(c)\n",
    "d = a*b\n",
    "print(d)"
   ]
  },
  {
   "cell_type": "code",
   "execution_count": 23,
   "id": "681dde86",
   "metadata": {},
   "outputs": [],
   "source": [
    "# try:\n",
    "# except:\n",
    "# else:\n",
    "# raise:\n",
    "# finally:"
   ]
  },
  {
   "cell_type": "code",
   "execution_count": 26,
   "id": "18bc90df",
   "metadata": {},
   "outputs": [
    {
     "name": "stdout",
     "output_type": "stream",
     "text": [
      "enter the first number10\n",
      "enter the second number0\n",
      "0\n"
     ]
    }
   ],
   "source": [
    "a = int(input(\"enter the first number\"))\n",
    "b =int(input(\"enter the second number\"))\n",
    "try:\n",
    "    c = a/b\n",
    "    print(c)\n",
    "except ZeroDivisionError:\n",
    "    pass\n",
    "d = a*b\n",
    "print(d)"
   ]
  },
  {
   "cell_type": "code",
   "execution_count": 29,
   "id": "c07dc592",
   "metadata": {},
   "outputs": [
    {
     "name": "stdout",
     "output_type": "stream",
     "text": [
      "enter the first number5\n",
      "enter the second number8\n",
      "0.625\n",
      "40\n"
     ]
    }
   ],
   "source": [
    "a = int(input(\"enter the first number\"))\n",
    "b =int(input(\"enter the second number\"))\n",
    "try:\n",
    "    c = a/b\n",
    "    print(c)\n",
    "except SyntaxError:\n",
    "    pass\n",
    "d = a*b\n",
    "print(d)"
   ]
  },
  {
   "cell_type": "code",
   "execution_count": 39,
   "id": "bfbd48fe",
   "metadata": {},
   "outputs": [
    {
     "name": "stdout",
     "output_type": "stream",
     "text": [
      "enter the first number10\n",
      "enter the second numberk\n"
     ]
    },
    {
     "ename": "TypeError",
     "evalue": "unsupported operand type(s) for /: 'int' and 'str'",
     "output_type": "error",
     "traceback": [
      "\u001b[0;31m---------------------------------------------------------------------------\u001b[0m",
      "\u001b[0;31mTypeError\u001b[0m                                 Traceback (most recent call last)",
      "\u001b[0;32m/tmp/ipykernel_45178/2763642972.py\u001b[0m in \u001b[0;36m<module>\u001b[0;34m\u001b[0m\n\u001b[1;32m      2\u001b[0m \u001b[0mb\u001b[0m \u001b[0;34m=\u001b[0m\u001b[0minput\u001b[0m\u001b[0;34m(\u001b[0m\u001b[0;34m\"enter the second number\"\u001b[0m\u001b[0;34m)\u001b[0m\u001b[0;34m\u001b[0m\u001b[0;34m\u001b[0m\u001b[0m\n\u001b[1;32m      3\u001b[0m \u001b[0;32mtry\u001b[0m\u001b[0;34m:\u001b[0m\u001b[0;34m\u001b[0m\u001b[0;34m\u001b[0m\u001b[0m\n\u001b[0;32m----> 4\u001b[0;31m     \u001b[0mc\u001b[0m \u001b[0;34m=\u001b[0m \u001b[0ma\u001b[0m\u001b[0;34m/\u001b[0m\u001b[0mb\u001b[0m\u001b[0;34m\u001b[0m\u001b[0;34m\u001b[0m\u001b[0m\n\u001b[0m\u001b[1;32m      5\u001b[0m     \u001b[0mprint\u001b[0m\u001b[0;34m(\u001b[0m\u001b[0mc\u001b[0m\u001b[0;34m)\u001b[0m\u001b[0;34m\u001b[0m\u001b[0;34m\u001b[0m\u001b[0m\n\u001b[1;32m      6\u001b[0m \u001b[0;32mexcept\u001b[0m \u001b[0mZeroDivisionError\u001b[0m\u001b[0;34m:\u001b[0m\u001b[0;34m\u001b[0m\u001b[0;34m\u001b[0m\u001b[0m\n",
      "\u001b[0;31mTypeError\u001b[0m: unsupported operand type(s) for /: 'int' and 'str'"
     ]
    }
   ],
   "source": [
    "a = int(input(\"enter the first number\"))\n",
    "b =input(\"enter the second number\")\n",
    "try:\n",
    "    c = a/b\n",
    "    print(c)\n",
    "except ZeroDivisionError:\n",
    "    pass\n",
    "except ValueError:\n",
    "    pass\n",
    "\n",
    "    #print(\"b should not be a zero\")"
   ]
  },
  {
   "cell_type": "code",
   "execution_count": 4,
   "id": "fb7fb8ba",
   "metadata": {},
   "outputs": [
    {
     "data": {
      "text/plain": [
       "28"
      ]
     },
     "execution_count": 4,
     "metadata": {},
     "output_type": "execute_result"
    }
   ],
   "source": [
    "f = open(\"file.txt\",'w')\n",
    "f.write(\"1,2,3,69,5,9,8,9,8,9,9,898,6\")\n"
   ]
  },
  {
   "cell_type": "code",
   "execution_count": 5,
   "id": "ddccc5b2",
   "metadata": {},
   "outputs": [
    {
     "data": {
      "text/plain": [
       "57"
      ]
     },
     "execution_count": 5,
     "metadata": {},
     "output_type": "execute_result"
    }
   ],
   "source": [
    "f.fileno()"
   ]
  },
  {
   "cell_type": "code",
   "execution_count": 7,
   "id": "7bebe1a4",
   "metadata": {},
   "outputs": [
    {
     "name": "stdout",
     "output_type": "stream",
     "text": [
      "Writing test.txt\n"
     ]
    }
   ],
   "source": [
    "%%writefile test.txt\n",
    "hello"
   ]
  },
  {
   "cell_type": "code",
   "execution_count": 8,
   "id": "df59aca2",
   "metadata": {},
   "outputs": [],
   "source": [
    "import os"
   ]
  },
  {
   "cell_type": "code",
   "execution_count": 9,
   "id": "bac95df7",
   "metadata": {},
   "outputs": [
    {
     "data": {
      "text/plain": [
       "'/home/syedasamreen'"
      ]
     },
     "execution_count": 9,
     "metadata": {},
     "output_type": "execute_result"
    }
   ],
   "source": [
    "pwd()"
   ]
  },
  {
   "cell_type": "code",
   "execution_count": 10,
   "id": "dc51d4fb",
   "metadata": {},
   "outputs": [
    {
     "data": {
      "text/plain": [
       "'/home/syedasamreen'"
      ]
     },
     "execution_count": 10,
     "metadata": {},
     "output_type": "execute_result"
    }
   ],
   "source": [
    "os.getcwd()"
   ]
  },
  {
   "cell_type": "code",
   "execution_count": 11,
   "id": "9a7fec16",
   "metadata": {},
   "outputs": [
    {
     "data": {
      "text/plain": [
       "['.bash_logout',\n",
       " 'ipy_function.ipynb',\n",
       " 'syeda',\n",
       " 'py-vconnector',\n",
       " 'xab',\n",
       " 'rootdir_info',\n",
       " 'ftn.sh',\n",
       " 'mqtt_protocol',\n",
       " 'diskio.txt',\n",
       " 'exctn',\n",
       " 'py intro',\n",
       " 'cliess.txt.save',\n",
       " 'Untitled2.ipynb',\n",
       " 'fan.txt',\n",
       " '.pulsesecure',\n",
       " 'ipa.txt',\n",
       " 'pseudocode_for ipmi',\n",
       " '.swp',\n",
       " '.config',\n",
       " '.gnome',\n",
       " '.thunderbird',\n",
       " '.mozilla',\n",
       " '2001_files',\n",
       " '.python_history',\n",
       " 'host-to-ip.txt',\n",
       " 'loops_py.ipynb',\n",
       " 'xac',\n",
       " 'lnproto.txt',\n",
       " 'ipmi_dash',\n",
       " 'reverse',\n",
       " 'bmc_credentials.conf',\n",
       " 'whl_unt.sh',\n",
       " '.local',\n",
       " 'bulk-report1.txt',\n",
       " 'phone',\n",
       " 'Desktop',\n",
       " 'ipmisensor_dt.txt',\n",
       " 'newthing',\n",
       " 'Untitled.ipynb',\n",
       " '.lesshst',\n",
       " 'fqdn-bulk-report.txt',\n",
       " '.jupyter',\n",
       " 'pyprograms',\n",
       " 'in.sh',\n",
       " 'psr.txt',\n",
       " '.python_history-81369.tmp',\n",
       " 'Untitled3.ipynb',\n",
       " 'libvirt-python-1.2.0',\n",
       " 'kvm',\n",
       " 'Untitled Document 11',\n",
       " 'comm.sh',\n",
       " '...',\n",
       " 'xaa',\n",
       " '.influx_history',\n",
       " 'Downloads',\n",
       " 'models',\n",
       " 'ipcred.txt',\n",
       " '.profile',\n",
       " 'bacon.log',\n",
       " '.wget-hsts',\n",
       " 'fr.sh',\n",
       " 'parse.txt',\n",
       " '.python_history-39241.tmp',\n",
       " '.idlerc',\n",
       " 'py_loops.ipynb',\n",
       " 'inflx_cred.config',\n",
       " '.bashrc',\n",
       " 'Exception_handling.ipynb',\n",
       " 'debug.txt',\n",
       " '.theano',\n",
       " 'Templates',\n",
       " 'con.sh',\n",
       " 'brk_cnt.sh',\n",
       " '__pycache__',\n",
       " 'Documents',\n",
       " 'vpnpwd',\n",
       " 'Videos',\n",
       " 'cas.sh',\n",
       " 'Pictures',\n",
       " 'Public',\n",
       " '.vscode-R',\n",
       " '.keras',\n",
       " 'ddt.txt',\n",
       " 'Music',\n",
       " 'users',\n",
       " 'timetemp.csv',\n",
       " 'diskio.csv',\n",
       " '.conda',\n",
       " 'textfile',\n",
       " 'xbb',\n",
       " 'projects',\n",
       " '.cache',\n",
       " 'influx',\n",
       " 'ipmiallt.csv',\n",
       " 'disk_io.csv',\n",
       " '.pki',\n",
       " 'bulk-report.txt',\n",
       " '.wine',\n",
       " '.bash_history',\n",
       " 'kerasenv',\n",
       " 'external.txt',\n",
       " '.ssh',\n",
       " 'influx_conn',\n",
       " 'pytorch',\n",
       " '.vscode',\n",
       " '2_assignment_sol.ipynb',\n",
       " 'test_stuff',\n",
       " '.ipython',\n",
       " 'test.db',\n",
       " 'Untitled1.ipynb',\n",
       " '.sudo.swp',\n",
       " '.anydesk',\n",
       " 'f1.txt',\n",
       " '.sudo_as_admin_successful',\n",
       " 'dead.letter',\n",
       " 'file.txt',\n",
       " '.python_history-84577.tmp',\n",
       " 'snap',\n",
       " 'anaconda3',\n",
       " '.python_history-30309.tmp',\n",
       " 'py_loops.jupyterlab-workspace',\n",
       " '.csv',\n",
       " 'PycharmProjects',\n",
       " 'bulk-domains.txt',\n",
       " '.hello.c.swp',\n",
       " 'test1.db',\n",
       " 'export.txt',\n",
       " '.putty',\n",
       " 'ddtt.txt',\n",
       " 'test.txt',\n",
       " 'Untitled Document 2',\n",
       " '.ipynb_checkpoints',\n",
       " 'whl.sh',\n",
       " 'Untitled Document 1',\n",
       " 'domains.txt',\n",
       " '.gnupg',\n",
       " '.java',\n",
       " 'temp.txt',\n",
       " 'job%']"
      ]
     },
     "execution_count": 11,
     "metadata": {},
     "output_type": "execute_result"
    }
   ],
   "source": [
    "os.listdir()"
   ]
  },
  {
   "cell_type": "code",
   "execution_count": 13,
   "id": "40c763c7",
   "metadata": {},
   "outputs": [
    {
     "data": {
      "text/plain": [
       "['.bash_logout',\n",
       " '.config',\n",
       " '.mozilla',\n",
       " '.local',\n",
       " 'Desktop',\n",
       " 'Downloads',\n",
       " '.profile',\n",
       " '.bashrc',\n",
       " 'Templates',\n",
       " 'Documents',\n",
       " 'Videos',\n",
       " 'Pictures',\n",
       " 'Public',\n",
       " 'Music',\n",
       " '.cache',\n",
       " '.pki',\n",
       " '.bash_history',\n",
       " '.ssh',\n",
       " '.anydesk',\n",
       " '.sudo_as_admin_successful',\n",
       " 'snap',\n",
       " '.gnupg']"
      ]
     },
     "execution_count": 13,
     "metadata": {},
     "output_type": "execute_result"
    }
   ],
   "source": [
    "os.listdir(\"/home/vladmin\")"
   ]
  },
  {
   "cell_type": "code",
   "execution_count": 20,
   "id": "8eaf6ce5",
   "metadata": {},
   "outputs": [
    {
     "name": "stdout",
     "output_type": "stream",
     "text": [
      "file is available\n",
      "4,5,6,,6,,5,6,6,56,56,5,65\n"
     ]
    }
   ],
   "source": [
    "if \"file.txt\" in os.listdir():\n",
    "    print(\"file is available\")\n",
    "    f = open(\"file.txt\",'r+')\n",
    "    f.write(\"4,5,6,,6,,5,6,6,56,56,5,65\")\n",
    "    #f.close()\n",
    "    for i in f:\n",
    "        print(i)\n",
    "else:\n",
    "    print(\"file not available\")"
   ]
  },
  {
   "cell_type": "code",
   "execution_count": 21,
   "id": "fd508b69",
   "metadata": {},
   "outputs": [],
   "source": [
    "import sys"
   ]
  },
  {
   "cell_type": "code",
   "execution_count": 27,
   "id": "c4dc8094",
   "metadata": {},
   "outputs": [
    {
     "ename": "TypeError",
     "evalue": "'str' object is not callable",
     "output_type": "error",
     "traceback": [
      "\u001b[0;31m---------------------------------------------------------------------------\u001b[0m",
      "\u001b[0;31mTypeError\u001b[0m                                 Traceback (most recent call last)",
      "\u001b[0;32m/tmp/ipykernel_10339/1654290923.py\u001b[0m in \u001b[0;36m<module>\u001b[0;34m\u001b[0m\n\u001b[0;32m----> 1\u001b[0;31m \u001b[0msys\u001b[0m\u001b[0;34m.\u001b[0m\u001b[0mversion\u001b[0m\u001b[0;34m(\u001b[0m\u001b[0mc\u001b[0m\u001b[0;34m)\u001b[0m\u001b[0;34m\u001b[0m\u001b[0;34m\u001b[0m\u001b[0m\n\u001b[0m",
      "\u001b[0;31mTypeError\u001b[0m: 'str' object is not callable"
     ]
    }
   ],
   "source": [
    "sys.version(c)"
   ]
  },
  {
   "cell_type": "code",
   "execution_count": 28,
   "id": "a0e05406",
   "metadata": {},
   "outputs": [],
   "source": [
    "import shutil"
   ]
  },
  {
   "cell_type": "code",
   "execution_count": 31,
   "id": "d857e2fe",
   "metadata": {},
   "outputs": [
    {
     "data": {
      "text/plain": [
       "usage(total=982899539968, used=71491334144, free=861408169984)"
      ]
     },
     "execution_count": 31,
     "metadata": {},
     "output_type": "execute_result"
    }
   ],
   "source": [
    "shutil.disk_usage('/home')"
   ]
  },
  {
   "cell_type": "code",
   "execution_count": null,
   "id": "c9551fa0",
   "metadata": {},
   "outputs": [],
   "source": []
  }
 ],
 "metadata": {
  "kernelspec": {
   "display_name": "Python 3 (ipykernel)",
   "language": "python",
   "name": "python3"
  },
  "language_info": {
   "codemirror_mode": {
    "name": "ipython",
    "version": 3
   },
   "file_extension": ".py",
   "mimetype": "text/x-python",
   "name": "python",
   "nbconvert_exporter": "python",
   "pygments_lexer": "ipython3",
   "version": "3.8.10"
  }
 },
 "nbformat": 4,
 "nbformat_minor": 5
}
