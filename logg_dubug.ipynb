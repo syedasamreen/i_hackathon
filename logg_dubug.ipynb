{
 "cells": [
  {
   "cell_type": "markdown",
   "id": "7f5323f9",
   "metadata": {},
   "source": [
    "#logging"
   ]
  },
  {
   "cell_type": "markdown",
   "id": "e9fff0ef",
   "metadata": {},
   "source": [
    "1.debug: detailed information\n",
    "    2. info: information regarding software\n",
    "        3.warning: warning message\n",
    "            4. Error: Error message\n",
    "                5.Critical:"
   ]
  },
  {
   "cell_type": "code",
   "execution_count": 1,
   "id": "f49ac5a5",
   "metadata": {},
   "outputs": [],
   "source": [
    "import logging as lg\n",
    "import os"
   ]
  },
  {
   "cell_type": "code",
   "execution_count": 2,
   "id": "eb5f5945",
   "metadata": {},
   "outputs": [
    {
     "ename": "FileExistsError",
     "evalue": "[Errno 17] File exists: 'logging'",
     "output_type": "error",
     "traceback": [
      "\u001b[0;31m---------------------------------------------------------------------------\u001b[0m",
      "\u001b[0;31mFileExistsError\u001b[0m                           Traceback (most recent call last)",
      "\u001b[0;32m/tmp/ipykernel_54545/4125256518.py\u001b[0m in \u001b[0;36m<module>\u001b[0;34m\u001b[0m\n\u001b[0;32m----> 1\u001b[0;31m \u001b[0mos\u001b[0m\u001b[0;34m.\u001b[0m\u001b[0mmkdir\u001b[0m\u001b[0;34m(\u001b[0m\u001b[0;34m\"logging\"\u001b[0m\u001b[0;34m)\u001b[0m\u001b[0;34m\u001b[0m\u001b[0;34m\u001b[0m\u001b[0m\n\u001b[0m",
      "\u001b[0;31mFileExistsError\u001b[0m: [Errno 17] File exists: 'logging'"
     ]
    }
   ],
   "source": [
    "os.mkdir(\"logging\")\n"
   ]
  },
  {
   "cell_type": "code",
   "execution_count": 3,
   "id": "e13b329a",
   "metadata": {},
   "outputs": [],
   "source": [
    "os.chdir(os.getcwd()+'/'+'logging')\n"
   ]
  },
  {
   "cell_type": "code",
   "execution_count": 4,
   "id": "fe8b9836",
   "metadata": {},
   "outputs": [
    {
     "data": {
      "text/plain": [
       "'/home/syedasamreen/logging'"
      ]
     },
     "execution_count": 4,
     "metadata": {},
     "output_type": "execute_result"
    }
   ],
   "source": [
    "os.getcwd()"
   ]
  },
  {
   "cell_type": "code",
   "execution_count": 5,
   "id": "5a8f12a3",
   "metadata": {},
   "outputs": [],
   "source": [
    "lg.basicConfig(filename = 'test.log',level = lg.INFO,format = '%(asctime)s %(message)s')"
   ]
  },
  {
   "cell_type": "code",
   "execution_count": 6,
   "id": "bc041910",
   "metadata": {},
   "outputs": [],
   "source": [
    "lg.info(\"i am strting logging\")"
   ]
  },
  {
   "cell_type": "code",
   "execution_count": 7,
   "id": "7c17b2a8",
   "metadata": {},
   "outputs": [],
   "source": [
    "lg.warning(\"this is 1st warning\")"
   ]
  },
  {
   "cell_type": "code",
   "execution_count": 8,
   "id": "88128b42",
   "metadata": {},
   "outputs": [],
   "source": [
    "lg.error(\"this is error\")"
   ]
  },
  {
   "cell_type": "code",
   "execution_count": 9,
   "id": "49b7d760",
   "metadata": {},
   "outputs": [],
   "source": [
    "lg.critical(\"this is critical condition\")"
   ]
  },
  {
   "cell_type": "code",
   "execution_count": 10,
   "id": "b0a7cc0f",
   "metadata": {},
   "outputs": [],
   "source": [
    "lg.debug(\"debug this file\")"
   ]
  },
  {
   "cell_type": "code",
   "execution_count": null,
   "id": "0e66a1d6",
   "metadata": {},
   "outputs": [],
   "source": [
    "lg.basicConfig(filename = 'test.log',level = lg.,format = '%(asctime)s %(message)s')"
   ]
  },
  {
   "cell_type": "code",
   "execution_count": 16,
   "id": "a91b8c20",
   "metadata": {},
   "outputs": [],
   "source": [
    "def test(a,b):\n",
    "    try:\n",
    "        lg.info(a,b)\n",
    "        div = a/b\n",
    "        return div\n",
    "    except Exception as e:\n",
    "        print(\"you can check your log for more information\")\n",
    "        lg.error(\"Error has occured\")\n",
    "        lg.exception(str(e))"
   ]
  },
  {
   "cell_type": "code",
   "execution_count": 17,
   "id": "3b447296",
   "metadata": {},
   "outputs": [
    {
     "name": "stderr",
     "output_type": "stream",
     "text": [
      "--- Logging error ---\n",
      "Traceback (most recent call last):\n",
      "  File \"/usr/lib/python3.8/logging/__init__.py\", line 1085, in emit\n",
      "    msg = self.format(record)\n",
      "  File \"/usr/lib/python3.8/logging/__init__.py\", line 929, in format\n",
      "    return fmt.format(record)\n",
      "  File \"/usr/lib/python3.8/logging/__init__.py\", line 668, in format\n",
      "    record.message = record.getMessage()\n",
      "  File \"/usr/lib/python3.8/logging/__init__.py\", line 373, in getMessage\n",
      "    msg = msg % self.args\n",
      "TypeError: not all arguments converted during string formatting\n",
      "Call stack:\n"
     ]
    },
    {
     "name": "stdout",
     "output_type": "stream",
     "text": [
      "you can check your log for more information\n"
     ]
    },
    {
     "name": "stderr",
     "output_type": "stream",
     "text": [
      "  File \"/usr/lib/python3.8/runpy.py\", line 194, in _run_module_as_main\n",
      "    return _run_code(code, main_globals, None,\n",
      "  File \"/usr/lib/python3.8/runpy.py\", line 87, in _run_code\n",
      "    exec(code, run_globals)\n",
      "  File \"/home/syedasamreen/.local/lib/python3.8/site-packages/ipykernel_launcher.py\", line 16, in <module>\n",
      "    app.launch_new_instance()\n",
      "  File \"/home/syedasamreen/.local/lib/python3.8/site-packages/traitlets/config/application.py\", line 846, in launch_instance\n",
      "    app.start()\n",
      "  File \"/home/syedasamreen/.local/lib/python3.8/site-packages/ipykernel/kernelapp.py\", line 677, in start\n",
      "    self.io_loop.start()\n",
      "  File \"/home/syedasamreen/.local/lib/python3.8/site-packages/tornado/platform/asyncio.py\", line 199, in start\n",
      "    self.asyncio_loop.run_forever()\n",
      "  File \"/usr/lib/python3.8/asyncio/base_events.py\", line 570, in run_forever\n",
      "    self._run_once()\n",
      "  File \"/usr/lib/python3.8/asyncio/base_events.py\", line 1859, in _run_once\n",
      "    handle._run()\n",
      "  File \"/usr/lib/python3.8/asyncio/events.py\", line 81, in _run\n",
      "    self._context.run(self._callback, *self._args)\n",
      "  File \"/home/syedasamreen/.local/lib/python3.8/site-packages/ipykernel/kernelbase.py\", line 473, in dispatch_queue\n",
      "    await self.process_one()\n",
      "  File \"/home/syedasamreen/.local/lib/python3.8/site-packages/ipykernel/kernelbase.py\", line 462, in process_one\n",
      "    await dispatch(*args)\n",
      "  File \"/home/syedasamreen/.local/lib/python3.8/site-packages/ipykernel/kernelbase.py\", line 369, in dispatch_shell\n",
      "    await result\n",
      "  File \"/home/syedasamreen/.local/lib/python3.8/site-packages/ipykernel/kernelbase.py\", line 664, in execute_request\n",
      "    reply_content = await reply_content\n",
      "  File \"/home/syedasamreen/.local/lib/python3.8/site-packages/ipykernel/ipkernel.py\", line 355, in do_execute\n",
      "    res = shell.run_cell(code, store_history=store_history, silent=silent)\n",
      "  File \"/home/syedasamreen/.local/lib/python3.8/site-packages/ipykernel/zmqshell.py\", line 532, in run_cell\n",
      "    return super().run_cell(*args, **kwargs)\n",
      "  File \"/home/syedasamreen/.local/lib/python3.8/site-packages/IPython/core/interactiveshell.py\", line 2901, in run_cell\n",
      "    result = self._run_cell(\n",
      "  File \"/home/syedasamreen/.local/lib/python3.8/site-packages/IPython/core/interactiveshell.py\", line 2947, in _run_cell\n",
      "    return runner(coro)\n",
      "  File \"/home/syedasamreen/.local/lib/python3.8/site-packages/IPython/core/async_helpers.py\", line 68, in _pseudo_sync_runner\n",
      "    coro.send(None)\n",
      "  File \"/home/syedasamreen/.local/lib/python3.8/site-packages/IPython/core/interactiveshell.py\", line 3172, in run_cell_async\n",
      "    has_raised = await self.run_ast_nodes(code_ast.body, cell_name,\n",
      "  File \"/home/syedasamreen/.local/lib/python3.8/site-packages/IPython/core/interactiveshell.py\", line 3364, in run_ast_nodes\n",
      "    if (await self.run_code(code, result,  async_=asy)):\n",
      "  File \"/home/syedasamreen/.local/lib/python3.8/site-packages/IPython/core/interactiveshell.py\", line 3444, in run_code\n",
      "    exec(code_obj, self.user_global_ns, self.user_ns)\n",
      "  File \"/tmp/ipykernel_54545/2674636304.py\", line 1, in <module>\n",
      "    test(4,0)\n",
      "  File \"/tmp/ipykernel_54545/4153047135.py\", line 3, in test\n",
      "    lg.info(a,b)\n",
      "Message: 4\n",
      "Arguments: (0,)\n"
     ]
    }
   ],
   "source": [
    "test(4,0)"
   ]
  },
  {
   "cell_type": "code",
   "execution_count": 18,
   "id": "db023e7f",
   "metadata": {},
   "outputs": [],
   "source": [
    "lg.shutdown()"
   ]
  },
  {
   "cell_type": "code",
   "execution_count": null,
   "id": "88de17da",
   "metadata": {},
   "outputs": [],
   "source": []
  }
 ],
 "metadata": {
  "kernelspec": {
   "display_name": "Python 3 (ipykernel)",
   "language": "python",
   "name": "python3"
  },
  "language_info": {
   "codemirror_mode": {
    "name": "ipython",
    "version": 3
   },
   "file_extension": ".py",
   "mimetype": "text/x-python",
   "name": "python",
   "nbconvert_exporter": "python",
   "pygments_lexer": "ipython3",
   "version": "3.8.10"
  }
 },
 "nbformat": 4,
 "nbformat_minor": 5
}
