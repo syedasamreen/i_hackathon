{
 "cells": [
  {
   "cell_type": "code",
   "execution_count": 6,
   "id": "1f0d7169",
   "metadata": {},
   "outputs": [
    {
     "name": "stdout",
     "output_type": "stream",
     "text": [
      "1\n",
      "2\n",
      "3\n",
      "4\n",
      "no ten rupees notes available\n"
     ]
    }
   ],
   "source": [
    "notes = 5\n",
    "i = 1\n",
    "j = 1\n",
    "while i < notes:\n",
    "    print(i)\n",
    "    i +=1\n",
    "else:\n",
    "    while i< 2:\n",
    "        print(j)\n",
    "        j +=1\n",
    "    print(\"no ten rupees notes available\")"
   ]
  },
  {
   "cell_type": "code",
   "execution_count": 7,
   "id": "6a9c568b",
   "metadata": {},
   "outputs": [
    {
     "name": "stdout",
     "output_type": "stream",
     "text": [
      "m\n"
     ]
    }
   ],
   "source": [
    "s = \"sam\"\n",
    "print(s[2])"
   ]
  },
  {
   "cell_type": "code",
   "execution_count": 20,
   "id": "ca7f7b54",
   "metadata": {},
   "outputs": [
    {
     "name": "stdout",
     "output_type": "stream",
     "text": [
      "Enter integer3\n",
      "s s s \n",
      "s s \n",
      "s \n",
      "\n"
     ]
    }
   ],
   "source": [
    " n = int(input(\"Enter integer\"))\n",
    "for i in range(n+1):\n",
    "    for j in range(i,n):\n",
    "        print(\"s\",end = \" \")\n",
    "    print()"
   ]
  },
  {
   "cell_type": "code",
   "execution_count": 23,
   "id": "a94ab060",
   "metadata": {},
   "outputs": [
    {
     "name": "stdout",
     "output_type": "stream",
     "text": [
      "Enter integer4\n"
     ]
    }
   ],
   "source": [
    "n = int(input(\"Enter integer\"))\n",
    "i = 0 \n"
   ]
  },
  {
   "cell_type": "code",
   "execution_count": 38,
   "id": "e26cce2c",
   "metadata": {},
   "outputs": [
    {
     "data": {
      "text/plain": [
       "'########sam#########'"
      ]
     },
     "execution_count": 38,
     "metadata": {},
     "output_type": "execute_result"
    }
   ],
   "source": [
    "s = \"sam\"\n",
    "s.center(20,'#')"
   ]
  },
  {
   "cell_type": "code",
   "execution_count": 26,
   "id": "f3914a35",
   "metadata": {},
   "outputs": [
    {
     "data": {
      "text/plain": [
       "-1"
      ]
     },
     "execution_count": 26,
     "metadata": {},
     "output_type": "execute_result"
    }
   ],
   "source": [
    "s.find('v')"
   ]
  },
  {
   "cell_type": "code",
   "execution_count": 36,
   "id": "2ec8e774",
   "metadata": {},
   "outputs": [
    {
     "name": "stdout",
     "output_type": "stream",
     "text": [
      "3\n",
      "4\n",
      "5\n",
      "6\n"
     ]
    }
   ],
   "source": [
    "s = \"my name is samreen, name of rg is ineuron\"\n",
    "b = s.find(\"name\")\n",
    "for i in range(4):\n",
    "    print(b+i)"
   ]
  },
  {
   "cell_type": "code",
   "execution_count": 39,
   "id": "e170cded",
   "metadata": {},
   "outputs": [
    {
     "data": {
      "text/plain": [
       "'we all are a par fsds'"
      ]
     },
     "execution_count": 39,
     "metadata": {},
     "output_type": "execute_result"
    }
   ],
   "source": [
    "a = \"we all are a par fsds\"\n",
    "a.lower()"
   ]
  },
  {
   "cell_type": "code",
   "execution_count": 52,
   "id": "7c000b3d",
   "metadata": {},
   "outputs": [
    {
     "data": {
      "text/plain": [
       "'we ineuronll ineuronre ineuron pineuronr fsds'"
      ]
     },
     "execution_count": 52,
     "metadata": {},
     "output_type": "execute_result"
    }
   ],
   "source": [
    "a.count('a')\n",
    "a.replace('a','ineuron')"
   ]
  },
  {
   "cell_type": "code",
   "execution_count": 55,
   "id": "85737bf8",
   "metadata": {},
   "outputs": [
    {
     "name": "stdout",
     "output_type": "stream",
     "text": [
      "3\n",
      "7\n",
      "11\n",
      "14\n"
     ]
    }
   ],
   "source": [
    "a = \"we all are a par fsds\"\n",
    "# s = a.find('a');s\n",
    "for i in range(len(a)):\n",
    "    if a[i] == 'a':\n",
    "        print(i)\n",
    "    \n",
    "    "
   ]
  },
  {
   "cell_type": "code",
   "execution_count": 57,
   "id": "b36d6ff7",
   "metadata": {},
   "outputs": [
    {
     "data": {
      "text/plain": [
       "['we', 'all', 'are', 'a', 'par', 'fsds']"
      ]
     },
     "execution_count": 57,
     "metadata": {},
     "output_type": "execute_result"
    }
   ],
   "source": [
    "a.split()"
   ]
  },
  {
   "cell_type": "code",
   "execution_count": 59,
   "id": "c7322c7e",
   "metadata": {},
   "outputs": [
    {
     "name": "stdout",
     "output_type": "stream",
     "text": [
      "s\n",
      "d\n",
      "s\n",
      "f\n",
      " \n",
      "r\n",
      "a\n",
      "p\n",
      " \n",
      "a\n",
      " \n",
      "e\n",
      "r\n",
      "a\n",
      " \n",
      "l\n",
      "l\n",
      "a\n",
      " \n",
      "e\n",
      "w\n"
     ]
    }
   ],
   "source": [
    "c = len(a)-1\n",
    "while c >= 0:\n",
    "    print(a[c])\n",
    "    c -=1"
   ]
  },
  {
   "cell_type": "code",
   "execution_count": 62,
   "id": "218ed8d0",
   "metadata": {},
   "outputs": [
    {
     "name": "stdout",
     "output_type": "stream",
     "text": [
      "s is not vowel\n",
      "a is vowel\n",
      "m is not vowel\n",
      "r is not vowel\n",
      "e is vowel\n",
      "e is vowel\n",
      "n is not vowel\n"
     ]
    }
   ],
   "source": [
    "a = \"samreen\"\n",
    "v = \"AaEeIiOoUu\"\n",
    "for i in a:\n",
    "    if i in v:\n",
    "        print(\"{} is vowel\".format(i))\n",
    "    else:\n",
    "        print(\"{} is not vowel\".format(i))"
   ]
  },
  {
   "cell_type": "code",
   "execution_count": 5,
   "id": "a8642bd2",
   "metadata": {},
   "outputs": [
    {
     "name": "stdout",
     "output_type": "stream",
     "text": [
      "a\n",
      "e\n",
      "e\n"
     ]
    }
   ],
   "source": [
    "a = \"samreen\"\n",
    "v = \"AaEeIiOoUu\"\n",
    "for i in a:\n",
    "    if i in v:\n",
    "        print(i)"
   ]
  },
  {
   "cell_type": "code",
   "execution_count": 4,
   "id": "1c8288d1",
   "metadata": {},
   "outputs": [
    {
     "data": {
      "text/plain": [
       "'my name is sam'"
      ]
     },
     "execution_count": 4,
     "metadata": {},
     "output_type": "execute_result"
    }
   ],
   "source": [
    "'{} name {} sam'.format('my','is')"
   ]
  },
  {
   "cell_type": "code",
   "execution_count": 8,
   "id": "3fa63eb6",
   "metadata": {},
   "outputs": [
    {
     "name": "stdout",
     "output_type": "stream",
     "text": [
      "(0, 1)\n",
      "(1, 2)\n",
      "(2, 3)\n",
      "(3, 6)\n",
      "(4, 5)\n",
      "(5, 9)\n",
      "(6, 8)\n",
      "(7, 6)\n",
      "(8, 5)\n"
     ]
    }
   ],
   "source": [
    "l=[1,2,3,6,5,9,8,6,5]\n",
    "for i in enumerate(l):\n",
    "    print(i)"
   ]
  },
  {
   "cell_type": "code",
   "execution_count": 10,
   "id": "99285de2",
   "metadata": {},
   "outputs": [
    {
     "data": {
      "text/plain": [
       "[(0, 1), (1, 2), (2, 3), (3, 6), (4, 5), (5, 9), (6, 8), (7, 6), (8, 5)]"
      ]
     },
     "execution_count": 10,
     "metadata": {},
     "output_type": "execute_result"
    }
   ],
   "source": [
    "[i for i in enumerate(l)]"
   ]
  },
  {
   "cell_type": "code",
   "execution_count": 22,
   "id": "534ee55b",
   "metadata": {},
   "outputs": [
    {
     "name": "stdout",
     "output_type": "stream",
     "text": [
      "[[0, 1, 2], [0, 1, 2], [0, 1, 2]]\n"
     ]
    }
   ],
   "source": [
    "mat =[]\n",
    "for i in range(3):\n",
    "    mat.append([])\n",
    "    for j in range(3):\n",
    "        mat[i].append(j)\n",
    "print(mat)"
   ]
  },
  {
   "cell_type": "code",
   "execution_count": 27,
   "id": "10f121be",
   "metadata": {},
   "outputs": [
    {
     "data": {
      "text/plain": [
       "[[0, 1, 2], [0, 1, 2]]"
      ]
     },
     "execution_count": 27,
     "metadata": {},
     "output_type": "execute_result"
    }
   ],
   "source": [
    "[[j for j in range(3)] for i in range(3) if i % 2==0]"
   ]
  },
  {
   "cell_type": "code",
   "execution_count": 31,
   "id": "789a5a37",
   "metadata": {},
   "outputs": [
    {
     "data": {
      "text/plain": [
       "[0, 6]"
      ]
     },
     "execution_count": 31,
     "metadata": {},
     "output_type": "execute_result"
    }
   ],
   "source": [
    "[i for i in range(10) if i%6 == 0]"
   ]
  },
  {
   "cell_type": "code",
   "execution_count": 32,
   "id": "b9b8d967",
   "metadata": {},
   "outputs": [],
   "source": [
    "t1 = 34\n",
    "del(t1)"
   ]
  },
  {
   "cell_type": "code",
   "execution_count": 73,
   "id": "14562dfd",
   "metadata": {},
   "outputs": [],
   "source": [
    "l = { i:i*i for i in range(10)}"
   ]
  },
  {
   "cell_type": "code",
   "execution_count": 74,
   "id": "977e46d6",
   "metadata": {},
   "outputs": [
    {
     "data": {
      "text/plain": [
       "{0: 0, 1: 1, 2: 4, 3: 9, 4: 16, 5: 25, 6: 36, 7: 49, 8: 64, 9: 81}"
      ]
     },
     "execution_count": 74,
     "metadata": {},
     "output_type": "execute_result"
    }
   ],
   "source": [
    "l"
   ]
  },
  {
   "cell_type": "code",
   "execution_count": 51,
   "id": "8d99680a",
   "metadata": {},
   "outputs": [
    {
     "data": {
      "text/plain": [
       "(6, 'h')"
      ]
     },
     "execution_count": 51,
     "metadata": {},
     "output_type": "execute_result"
    }
   ],
   "source": [
    "def k():\n",
    "    for i in enumerate('dfjgnjh'):\n",
    "        pass\n",
    "    return i\n",
    "k()"
   ]
  },
  {
   "cell_type": "code",
   "execution_count": 54,
   "id": "f2607783",
   "metadata": {},
   "outputs": [
    {
     "data": {
      "text/plain": [
       "216000"
      ]
     },
     "execution_count": 54,
     "metadata": {},
     "output_type": "execute_result"
    }
   ],
   "source": [
    "60*60*60"
   ]
  },
  {
   "cell_type": "code",
   "execution_count": 55,
   "id": "64e3247a",
   "metadata": {},
   "outputs": [
    {
     "data": {
      "text/plain": [
       "2592000"
      ]
     },
     "execution_count": 55,
     "metadata": {},
     "output_type": "execute_result"
    }
   ],
   "source": [
    "216000*12"
   ]
  },
  {
   "cell_type": "code",
   "execution_count": 56,
   "id": "44b02a3d",
   "metadata": {},
   "outputs": [
    {
     "name": "stdout",
     "output_type": "stream",
     "text": [
      "\n"
     ]
    },
    {
     "data": {
      "text/plain": [
       "NoneType"
      ]
     },
     "execution_count": 56,
     "metadata": {},
     "output_type": "execute_result"
    }
   ],
   "source": [
    "type(print())"
   ]
  },
  {
   "cell_type": "code",
   "execution_count": 71,
   "id": "2d21c800",
   "metadata": {},
   "outputs": [],
   "source": [
    "def test(*args):\n",
    "    l = []\n",
    "    for i in args:\n",
    "        l = l+i\n",
    "    return l\n"
   ]
  },
  {
   "cell_type": "code",
   "execution_count": 72,
   "id": "c1d78d1a",
   "metadata": {},
   "outputs": [
    {
     "data": {
      "text/plain": [
       "[1, 2, 3, 6, 5, 6, 5, 4, 5, 6]"
      ]
     },
     "execution_count": 72,
     "metadata": {},
     "output_type": "execute_result"
    }
   ],
   "source": [
    "test([1,2,3,6,5,6,5],[4,5,6,])"
   ]
  },
  {
   "cell_type": "code",
   "execution_count": 80,
   "id": "1177c2a5",
   "metadata": {},
   "outputs": [],
   "source": [
    "s = \"sma\"\n",
    "b = \"skl\"\n",
    "n = lambda arg1, arg2 : arg1+arg2"
   ]
  },
  {
   "cell_type": "code",
   "execution_count": 81,
   "id": "e191d798",
   "metadata": {},
   "outputs": [
    {
     "data": {
      "text/plain": [
       "'smaskl'"
      ]
     },
     "execution_count": 81,
     "metadata": {},
     "output_type": "execute_result"
    }
   ],
   "source": [
    "n(s,b)"
   ]
  },
  {
   "cell_type": "code",
   "execution_count": 91,
   "id": "0239c53f",
   "metadata": {},
   "outputs": [],
   "source": [
    "r = 5\n",
    "def fun(a,b):\n",
    "    '''Division of any two numbers'''\n",
    "    r = a/b\n",
    "    return r"
   ]
  },
  {
   "cell_type": "code",
   "execution_count": 92,
   "id": "104faf14",
   "metadata": {},
   "outputs": [
    {
     "data": {
      "text/plain": [
       "0.5"
      ]
     },
     "execution_count": 92,
     "metadata": {},
     "output_type": "execute_result"
    }
   ],
   "source": [
    "fun(10,20)"
   ]
  },
  {
   "cell_type": "code",
   "execution_count": 93,
   "id": "b5b27b03",
   "metadata": {},
   "outputs": [
    {
     "name": "stdout",
     "output_type": "stream",
     "text": [
      "Help on function fun in module __main__:\n",
      "\n",
      "fun(a, b)\n",
      "    Division of any two numbers\n",
      "\n"
     ]
    }
   ],
   "source": [
    "help(fun)"
   ]
  },
  {
   "cell_type": "code",
   "execution_count": 103,
   "id": "2b4dca34",
   "metadata": {},
   "outputs": [
    {
     "ename": "TypeError",
     "evalue": "'str' object is not an iterator",
     "output_type": "error",
     "traceback": [
      "\u001b[0;31m---------------------------------------------------------------------------\u001b[0m",
      "\u001b[0;31mTypeError\u001b[0m                                 Traceback (most recent call last)",
      "\u001b[0;32m/tmp/ipykernel_9164/39083701.py\u001b[0m in \u001b[0;36m<module>\u001b[0;34m\u001b[0m\n\u001b[1;32m      1\u001b[0m \u001b[0ma\u001b[0m \u001b[0;34m=\u001b[0m \u001b[0;34m'skdkkd'\u001b[0m\u001b[0;34m\u001b[0m\u001b[0;34m\u001b[0m\u001b[0m\n\u001b[0;32m----> 2\u001b[0;31m \u001b[0mnext\u001b[0m\u001b[0;34m(\u001b[0m\u001b[0ma\u001b[0m\u001b[0;34m)\u001b[0m\u001b[0;34m\u001b[0m\u001b[0;34m\u001b[0m\u001b[0m\n\u001b[0m",
      "\u001b[0;31mTypeError\u001b[0m: 'str' object is not an iterator"
     ]
    }
   ],
   "source": [
    "a = 'skdkkd'\n",
    "next(a)"
   ]
  },
  {
   "cell_type": "code",
   "execution_count": 104,
   "id": "a53b297d",
   "metadata": {},
   "outputs": [
    {
     "data": {
      "text/plain": [
       "<str_iterator at 0x7fe8369293d0>"
      ]
     },
     "execution_count": 104,
     "metadata": {},
     "output_type": "execute_result"
    }
   ],
   "source": [
    "s = iter(a);s"
   ]
  },
  {
   "cell_type": "code",
   "execution_count": 107,
   "id": "4ac662c5",
   "metadata": {},
   "outputs": [
    {
     "data": {
      "text/plain": [
       "<list_iterator at 0x7fe8369298b0>"
      ]
     },
     "execution_count": 107,
     "metadata": {},
     "output_type": "execute_result"
    }
   ],
   "source": [
    "d = [1,2,3,6,5,5]\n",
    "iter(d)"
   ]
  },
  {
   "cell_type": "code",
   "execution_count": null,
   "id": "c326b2fd",
   "metadata": {},
   "outputs": [],
   "source": []
  }
 ],
 "metadata": {
  "kernelspec": {
   "display_name": "Python 3 (ipykernel)",
   "language": "python",
   "name": "python3"
  },
  "language_info": {
   "codemirror_mode": {
    "name": "ipython",
    "version": 3
   },
   "file_extension": ".py",
   "mimetype": "text/x-python",
   "name": "python",
   "nbconvert_exporter": "python",
   "pygments_lexer": "ipython3",
   "version": "3.8.10"
  }
 },
 "nbformat": 4,
 "nbformat_minor": 5
}
