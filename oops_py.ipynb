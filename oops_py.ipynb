{
 "cells": [
  {
   "cell_type": "markdown",
   "id": "005b8c87",
   "metadata": {},
   "source": [
    "#object oriented programming."
   ]
  },
  {
   "cell_type": "code",
   "execution_count": 3,
   "id": "21e72515",
   "metadata": {},
   "outputs": [],
   "source": [
    "#class, object.\n",
    "class car:\n",
    "    pass"
   ]
  },
  {
   "cell_type": "code",
   "execution_count": 4,
   "id": "767b8f4f",
   "metadata": {},
   "outputs": [],
   "source": [
    "aduiq7 = car()"
   ]
  },
  {
   "cell_type": "code",
   "execution_count": 8,
   "id": "a97495fa",
   "metadata": {},
   "outputs": [],
   "source": [
    "aduiq7.millage = 10\n",
    "aduiq7.year = 2020\n",
    "aduiq7.make = 356\n",
    "aduiq7.model = 'dhsjj'"
   ]
  },
  {
   "cell_type": "code",
   "execution_count": 9,
   "id": "b0223d04",
   "metadata": {},
   "outputs": [],
   "source": [
    "a = 7"
   ]
  },
  {
   "cell_type": "code",
   "execution_count": 10,
   "id": "51015b4a",
   "metadata": {},
   "outputs": [
    {
     "data": {
      "text/plain": [
       "10"
      ]
     },
     "execution_count": 10,
     "metadata": {},
     "output_type": "execute_result"
    }
   ],
   "source": [
    "aduiq7.millage"
   ]
  },
  {
   "cell_type": "code",
   "execution_count": 11,
   "id": "ac762d44",
   "metadata": {},
   "outputs": [],
   "source": [
    "nano = car()"
   ]
  },
  {
   "cell_type": "code",
   "execution_count": 13,
   "id": "72294ce8",
   "metadata": {},
   "outputs": [],
   "source": [
    "nano.millage = 20\n",
    "nano.year = 2020\n",
    "nano.make = 356\n",
    "nano.model = 'hdhhd'\n",
    "nano.engine = 365498"
   ]
  },
  {
   "cell_type": "code",
   "execution_count": 14,
   "id": "dcd30f80",
   "metadata": {},
   "outputs": [
    {
     "data": {
      "text/plain": [
       "2020"
      ]
     },
     "execution_count": 14,
     "metadata": {},
     "output_type": "execute_result"
    }
   ],
   "source": [
    "nano.year"
   ]
  },
  {
   "cell_type": "code",
   "execution_count": 17,
   "id": "fac50e66",
   "metadata": {},
   "outputs": [
    {
     "name": "stdout",
     "output_type": "stream",
     "text": [
      "20 10\n"
     ]
    }
   ],
   "source": [
    "print(nano.millage,aduiq7.millage)"
   ]
  },
  {
   "cell_type": "code",
   "execution_count": 27,
   "id": "819ab379",
   "metadata": {},
   "outputs": [],
   "source": [
    "class car:\n",
    "    def __init__(self, millage, year,make, model, engine):\n",
    "        self.millage = millage\n",
    "        self.make = make\n",
    "        self.model = model\n",
    "        self.engine  = engine\n",
    "        self.year = year\n",
    "    def age(self, current_year):\n",
    "        return current_year - self.year\n",
    "    def __str__(c):\n",
    "        return 'this is my car class'"
   ]
  },
  {
   "cell_type": "code",
   "execution_count": 28,
   "id": "8daadb1a",
   "metadata": {},
   "outputs": [],
   "source": [
    "nano1 = car(10,2021,'hghg',9855565,'hfhg')"
   ]
  },
  {
   "cell_type": "code",
   "execution_count": 29,
   "id": "6086a477",
   "metadata": {},
   "outputs": [
    {
     "data": {
      "text/plain": [
       "10"
      ]
     },
     "execution_count": 29,
     "metadata": {},
     "output_type": "execute_result"
    }
   ],
   "source": [
    "nano1.millage"
   ]
  },
  {
   "cell_type": "code",
   "execution_count": 26,
   "id": "d8c70425",
   "metadata": {},
   "outputs": [
    {
     "data": {
      "text/plain": [
       "2"
      ]
     },
     "execution_count": 26,
     "metadata": {},
     "output_type": "execute_result"
    }
   ],
   "source": [
    "nano1.age(2023)"
   ]
  },
  {
   "cell_type": "code",
   "execution_count": 31,
   "id": "0147d8df",
   "metadata": {},
   "outputs": [
    {
     "name": "stdout",
     "output_type": "stream",
     "text": [
      "this is my car class\n"
     ]
    }
   ],
   "source": [
    "print(nano1)"
   ]
  },
  {
   "cell_type": "code",
   "execution_count": 32,
   "id": "f62b0689",
   "metadata": {},
   "outputs": [
    {
     "data": {
      "text/plain": [
       "45"
      ]
     },
     "execution_count": 32,
     "metadata": {},
     "output_type": "execute_result"
    }
   ],
   "source": [
    "45"
   ]
  },
  {
   "cell_type": "code",
   "execution_count": null,
   "id": "5449c080",
   "metadata": {},
   "outputs": [],
   "source": [
    "class car:\n",
    "    def __init__(self, millage, year,make, model, engine):\n",
    "        self.millage = millage\n",
    "        self.make = make\n",
    "        self.model = model\n",
    "        self.engine  = engine\n",
    "        self.year = year\n",
    "    def age(self, *current_year):\n",
    "        return current_year - self.year\n",
    "    def __str__(c):\n",
    "        return 'this is my car class'"
   ]
  },
  {
   "cell_type": "code",
   "execution_count": 1,
   "id": "a3691935",
   "metadata": {},
   "outputs": [],
   "source": [
    "#obestraction:private public protected\n",
    "class students:\n",
    "    def __init__(self, a ,b ,c,d):\n",
    "        self.a = a\n",
    "        self.b = b\n",
    "        self.c = c\n",
    "        self.d = d\n",
    "    def custome(self, v):\n",
    "        return v - self.a\n",
    "    def __str__(self):\n",
    "        return \"this is students abstraction\""
   ]
  },
  {
   "cell_type": "code",
   "execution_count": 2,
   "id": "51d7f4b1",
   "metadata": {},
   "outputs": [
    {
     "data": {
      "text/plain": [
       "<__main__.students at 0x7fb39c4e5a90>"
      ]
     },
     "execution_count": 2,
     "metadata": {},
     "output_type": "execute_result"
    }
   ],
   "source": [
    "o = students(4,5,6,9);o"
   ]
  },
  {
   "cell_type": "code",
   "execution_count": 3,
   "id": "6017d452",
   "metadata": {},
   "outputs": [
    {
     "name": "stdout",
     "output_type": "stream",
     "text": [
      "0\n"
     ]
    }
   ],
   "source": [
    "print(o.custome(4))"
   ]
  },
  {
   "cell_type": "code",
   "execution_count": null,
   "id": "e5174ba9",
   "metadata": {},
   "outputs": [],
   "source": []
  }
 ],
 "metadata": {
  "kernelspec": {
   "display_name": "Python 3 (ipykernel)",
   "language": "python",
   "name": "python3"
  },
  "language_info": {
   "codemirror_mode": {
    "name": "ipython",
    "version": 3
   },
   "file_extension": ".py",
   "mimetype": "text/x-python",
   "name": "python",
   "nbconvert_exporter": "python",
   "pygments_lexer": "ipython3",
   "version": "3.8.10"
  }
 },
 "nbformat": 4,
 "nbformat_minor": 5
}
