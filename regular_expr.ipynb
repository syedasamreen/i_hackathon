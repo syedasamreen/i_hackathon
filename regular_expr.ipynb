{
 "cells": [
  {
   "cell_type": "code",
   "execution_count": 7,
   "id": "442dfcb6",
   "metadata": {},
   "outputs": [
    {
     "name": "stdout",
     "output_type": "stream",
     "text": [
      "415-555-4242 is a phone number:\n",
      "True\n",
      "Moshi moshi is a phone number\n",
      "False\n",
      "phone number found: 455-555-1011\n",
      "phone number found: 514-586-9999\n",
      "Done\n"
     ]
    }
   ],
   "source": [
    "# Finding phone numbers\n",
    "def isphonenumber(text):\n",
    "    if len(text) != 12:\n",
    "        return False\n",
    "    for i in range(0,3):\n",
    "        if not text[i].isdecimal():\n",
    "            return False\n",
    "    if text[3] != '-':\n",
    "        return False\n",
    "    for i in range(4,7):\n",
    "        if not text[i].isdecimal():\n",
    "            return False\n",
    "    if text[7] != '-':\n",
    "        return False\n",
    "    for i in range(8,12):\n",
    "        if not text[i].isdecimal():\n",
    "            return False\n",
    "    return True\n",
    "print('415-555-4242 is a phone number:')\n",
    "print(isphonenumber('455-555-4242'))\n",
    "print('Moshi moshi is a phone number')\n",
    "print(isphonenumber('moshi moshi'))\n",
    "message = 'call me at 455-555-1011 tomrrow. 514-586-9999'\n",
    "for i in range(len(message)):\n",
    "    chunk = message[i:i+12]\n",
    "    if isphonenumber(chunk):\n",
    "        print('phone number found: '+ chunk)\n",
    "print('Done')\n",
    "            "
   ]
  },
  {
   "cell_type": "code",
   "execution_count": 8,
   "id": "835f2f3c",
   "metadata": {},
   "outputs": [],
   "source": [
    "import re"
   ]
  },
  {
   "cell_type": "code",
   "execution_count": 17,
   "id": "846c1c18",
   "metadata": {},
   "outputs": [
    {
     "name": "stdout",
     "output_type": "stream",
     "text": [
      "phone number found: 455-555-1011\n"
     ]
    }
   ],
   "source": [
    "phonenumregex = re.compile(r'\\d\\d\\d-\\d\\d\\d-\\d\\d\\d\\d')\n",
    "mes = phonenumregex.search(message)\n",
    "print('phone number found: '+ mes.group(0))"
   ]
  },
  {
   "cell_type": "code",
   "execution_count": 20,
   "id": "8673bc68",
   "metadata": {},
   "outputs": [
    {
     "name": "stdout",
     "output_type": "stream",
     "text": [
      "phone number found: 555-1011\n"
     ]
    }
   ],
   "source": [
    "phonenumregex = re.compile(r'(\\d\\d\\d)-(\\d\\d\\d-\\d\\d\\d\\d)')\n",
    "mes = phonenumregex.search(message)\n",
    "print('phone number found: '+ mes.group(2))"
   ]
  },
  {
   "cell_type": "code",
   "execution_count": 21,
   "id": "2318fb2f",
   "metadata": {},
   "outputs": [
    {
     "data": {
      "text/plain": [
       "('455', '555-1011')"
      ]
     },
     "execution_count": 21,
     "metadata": {},
     "output_type": "execute_result"
    }
   ],
   "source": [
    "mes.groups()"
   ]
  },
  {
   "cell_type": "code",
   "execution_count": 23,
   "id": "f77fb81a",
   "metadata": {},
   "outputs": [],
   "source": [
    "areaCode, mainNumber = mes.groups()"
   ]
  },
  {
   "cell_type": "code",
   "execution_count": 25,
   "id": "628acc67",
   "metadata": {},
   "outputs": [
    {
     "name": "stdout",
     "output_type": "stream",
     "text": [
      "555-1011\n",
      "455\n"
     ]
    }
   ],
   "source": [
    "print(mainNumber)\n",
    "print(areaCode)"
   ]
  },
  {
   "cell_type": "code",
   "execution_count": 40,
   "id": "37dba4bf",
   "metadata": {},
   "outputs": [
    {
     "name": "stdout",
     "output_type": "stream",
     "text": [
      "phone number found: (415) (555-4242)\n"
     ]
    }
   ],
   "source": [
    "phonenumregex = re.compile(r'(\\(\\d\\d\\d\\)) (\\(\\d\\d\\d-\\d\\d\\d\\d\\))')\n",
    "mes1 = phonenumregex.search('My phone number is (415) (555-4242).')\n",
    "print('phone number found: '+ mes1.group())"
   ]
  },
  {
   "cell_type": "code",
   "execution_count": 41,
   "id": "49480619",
   "metadata": {},
   "outputs": [
    {
     "data": {
      "text/plain": [
       "'(555-4242)'"
      ]
     },
     "execution_count": 41,
     "metadata": {},
     "output_type": "execute_result"
    }
   ],
   "source": [
    "mes1.group(2)"
   ]
  },
  {
   "cell_type": "code",
   "execution_count": 43,
   "id": "1fe9638e",
   "metadata": {},
   "outputs": [
    {
     "data": {
      "text/plain": [
       "'batman'"
      ]
     },
     "execution_count": 43,
     "metadata": {},
     "output_type": "execute_result"
    }
   ],
   "source": [
    "orregex = re.compile(r'batman|Tina fey')\n",
    "mes2 = orregex.search('batman and Tine Fey.')\n",
    "mes2.group()"
   ]
  },
  {
   "cell_type": "code",
   "execution_count": 46,
   "id": "bb73bb8d",
   "metadata": {},
   "outputs": [
    {
     "data": {
      "text/plain": [
       "'Tina fey'"
      ]
     },
     "execution_count": 46,
     "metadata": {},
     "output_type": "execute_result"
    }
   ],
   "source": [
    "# orregex = re.compile(r'batman|Tina fey')\n",
    "mes2 = orregex.search('Tina fey and Batman.')\n",
    "mes2.group()"
   ]
  },
  {
   "cell_type": "code",
   "execution_count": 54,
   "id": "56e6725d",
   "metadata": {},
   "outputs": [
    {
     "data": {
      "text/plain": [
       "'Batmobile'"
      ]
     },
     "execution_count": 54,
     "metadata": {},
     "output_type": "execute_result"
    }
   ],
   "source": [
    "alregex = re.compile(r'Bat(man|mobile|copter|bat)')\n",
    "mo = alregex.search('Batmobile,Batcopter lost a wheel')\n",
    "mo.group()"
   ]
  },
  {
   "cell_type": "code",
   "execution_count": 56,
   "id": "0dce0896",
   "metadata": {},
   "outputs": [
    {
     "data": {
      "text/plain": [
       "'mobile'"
      ]
     },
     "execution_count": 56,
     "metadata": {},
     "output_type": "execute_result"
    }
   ],
   "source": [
    "mo.group(1)"
   ]
  },
  {
   "cell_type": "code",
   "execution_count": 60,
   "id": "7a018737",
   "metadata": {},
   "outputs": [
    {
     "data": {
      "text/plain": [
       "'Batman'"
      ]
     },
     "execution_count": 60,
     "metadata": {},
     "output_type": "execute_result"
    }
   ],
   "source": [
    "qregex = re.compile(r'Bat(wo)?man')\n",
    "mo1 = qregex.search('The adventure of Batman,Batwoman')\n",
    "mo1.group()"
   ]
  },
  {
   "cell_type": "code",
   "execution_count": 61,
   "id": "58e0f167",
   "metadata": {},
   "outputs": [
    {
     "data": {
      "text/plain": [
       "'555-4242'"
      ]
     },
     "execution_count": 61,
     "metadata": {},
     "output_type": "execute_result"
    }
   ],
   "source": [
    "phoneRegex = re.compile(r'(\\d\\d\\d-)?\\d\\d\\d-\\d\\d\\d\\d')\n",
    "mo2 = phoneRegex.search('My number is 555-4242')\n",
    "mo2.group()"
   ]
  },
  {
   "cell_type": "code",
   "execution_count": 62,
   "id": "e916f800",
   "metadata": {},
   "outputs": [
    {
     "data": {
      "text/plain": [
       "'batman'"
      ]
     },
     "execution_count": 62,
     "metadata": {},
     "output_type": "execute_result"
    }
   ],
   "source": [
    "bat = re.compile(r'bat(wo)*man')\n",
    "bat1 = bat.search('The adventure of batman')\n",
    "bat1.group()"
   ]
  },
  {
   "cell_type": "code",
   "execution_count": 64,
   "id": "1fd615e7",
   "metadata": {},
   "outputs": [
    {
     "data": {
      "text/plain": [
       "'batwoman'"
      ]
     },
     "execution_count": 64,
     "metadata": {},
     "output_type": "execute_result"
    }
   ],
   "source": [
    "bat2 = bat.search('Thme adventure of batwoman')\n",
    "bat2.group()"
   ]
  },
  {
   "cell_type": "code",
   "execution_count": 65,
   "id": "65360897",
   "metadata": {},
   "outputs": [
    {
     "data": {
      "text/plain": [
       "'batwowowowoman'"
      ]
     },
     "execution_count": 65,
     "metadata": {},
     "output_type": "execute_result"
    }
   ],
   "source": [
    "bat3 = bat.search('Thme adventure of batwowowowoman')\n",
    "bat3.group()"
   ]
  },
  {
   "cell_type": "code",
   "execution_count": 68,
   "id": "375238cf",
   "metadata": {},
   "outputs": [
    {
     "data": {
      "text/plain": [
       "'batwoman'"
      ]
     },
     "execution_count": 68,
     "metadata": {},
     "output_type": "execute_result"
    }
   ],
   "source": [
    "batt = re.compile(r'bat(wo)+man')\n",
    "bat1 = bat.search('The adventure of batwoman')\n",
    "bat1.group()"
   ]
  },
  {
   "cell_type": "code",
   "execution_count": 70,
   "id": "4b0fcccb",
   "metadata": {},
   "outputs": [
    {
     "data": {
      "text/plain": [
       "'batwowowowoman'"
      ]
     },
     "execution_count": 70,
     "metadata": {},
     "output_type": "execute_result"
    }
   ],
   "source": [
    "bat3 = batt.search('Thme adventure of batwowowowoman')\n",
    "bat3.group()"
   ]
  },
  {
   "cell_type": "code",
   "execution_count": 76,
   "id": "eef739a7",
   "metadata": {},
   "outputs": [
    {
     "data": {
      "text/plain": [
       "'Ha'"
      ]
     },
     "execution_count": 76,
     "metadata": {},
     "output_type": "execute_result"
    }
   ],
   "source": [
    "haRegex = re.compile(r'(Ha){1}')\n",
    "mo1 = haRegex.search('HaHaHa')\n",
    "mo1.group()\n"
   ]
  },
  {
   "cell_type": "code",
   "execution_count": null,
   "id": "ca6bd645",
   "metadata": {},
   "outputs": [],
   "source": [
    "mo2 = haRegex"
   ]
  },
  {
   "cell_type": "code",
   "execution_count": 77,
   "id": "314e11b8",
   "metadata": {},
   "outputs": [
    {
     "data": {
      "text/plain": [
       "'Note that the question mark can have two meanings in regular expres-\\nsions: declaring a nongreedy match or flagging an optional group. These\\nmeanings are entirely unrelated.'"
      ]
     },
     "execution_count": 77,
     "metadata": {},
     "output_type": "execute_result"
    }
   ],
   "source": [
    "'''Note that the question mark can have two meanings in regular expres-\n",
    "sions: declaring a nongreedy match or flagging an optional group. These\n",
    "meanings are entirely unrelated.'''"
   ]
  },
  {
   "cell_type": "code",
   "execution_count": 78,
   "id": "7cb1b3de",
   "metadata": {},
   "outputs": [
    {
     "data": {
      "text/plain": [
       "['415-555-9999', '212-555-0000']"
      ]
     },
     "execution_count": 78,
     "metadata": {},
     "output_type": "execute_result"
    }
   ],
   "source": [
    "phoneNumRegex = re.compile(r'\\d\\d\\d-\\d\\d\\d-\\d\\d\\d\\d') # has no groups\n",
    "phoneNumRegex.findall('Cell: 415-555-9999 Work: 212-555-0000')"
   ]
  },
  {
   "cell_type": "code",
   "execution_count": 81,
   "id": "684d9542",
   "metadata": {},
   "outputs": [
    {
     "data": {
      "text/plain": [
       "['12 drummers',\n",
       " '11 pipers',\n",
       " '10 lords',\n",
       " '9 ladies',\n",
       " '8 maids',\n",
       " '7 swans',\n",
       " '6 geese',\n",
       " '5 rings',\n",
       " '4 birds',\n",
       " '3 hens',\n",
       " '2 doves',\n",
       " '1 partridge']"
      ]
     },
     "execution_count": 81,
     "metadata": {},
     "output_type": "execute_result"
    }
   ],
   "source": [
    "xmasRegex = re.compile(r'\\d+\\s\\w+')\n",
    "xmasRegex.findall('12 drummers, 11 pipers, 10 lords, 9 ladies, 8 maids, 7 swans, 6 geese, 5 rings, 4 birds, 3 hens, 2 doves, 1 partridge')"
   ]
  },
  {
   "cell_type": "code",
   "execution_count": 82,
   "id": "2714df6a",
   "metadata": {},
   "outputs": [
    {
     "data": {
      "text/plain": [
       "['o', 'o', 'o', 'e', 'a', 'a', 'o', 'o', 'A', 'O', 'O']"
      ]
     },
     "execution_count": 82,
     "metadata": {},
     "output_type": "execute_result"
    }
   ],
   "source": [
    "vowelRegex = re.compile(r'[aeiouAEIOU]')\n",
    "vowelRegex.findall('RoboCop eats baby food. BABY FOOD.')"
   ]
  },
  {
   "cell_type": "code",
   "execution_count": 83,
   "id": "7f709416",
   "metadata": {},
   "outputs": [
    {
     "data": {
      "text/plain": [
       "['R',\n",
       " 'b',\n",
       " 'C',\n",
       " 'p',\n",
       " ' ',\n",
       " 't',\n",
       " 's',\n",
       " ' ',\n",
       " 'b',\n",
       " 'b',\n",
       " 'y',\n",
       " ' ',\n",
       " 'f',\n",
       " 'd',\n",
       " '.',\n",
       " ' ',\n",
       " 'B',\n",
       " 'B',\n",
       " 'Y',\n",
       " ' ',\n",
       " 'F',\n",
       " 'D',\n",
       " '.']"
      ]
     },
     "execution_count": 83,
     "metadata": {},
     "output_type": "execute_result"
    }
   ],
   "source": [
    "vowelRegex = re.compile(r'[^aeiouAEIOU]')\n",
    "vowelRegex.findall('RoboCop eats baby food. BABY FOOD.')"
   ]
  },
  {
   "cell_type": "code",
   "execution_count": 6,
   "id": "f31623c6",
   "metadata": {},
   "outputs": [
    {
     "data": {
      "text/plain": [
       "['o', 'o', 'o', 'e', 'a', 'a', 'o', 'o', 'A', 'O', 'O']"
      ]
     },
     "execution_count": 6,
     "metadata": {},
     "output_type": "execute_result"
    }
   ],
   "source": [
    "import re\n",
    "conson = re.compile(r'[aeiouAEIOU]')\n",
    "conson.findall('Robocop eats baby food. BABY FOOD.')"
   ]
  },
  {
   "cell_type": "code",
   "execution_count": 7,
   "id": "695b21d9",
   "metadata": {},
   "outputs": [
    {
     "data": {
      "text/plain": [
       "<re.Match object; span=(0, 5), match='Hello'>"
      ]
     },
     "execution_count": 7,
     "metadata": {},
     "output_type": "execute_result"
    }
   ],
   "source": [
    "bgn = re.compile(r'^Hello')\n",
    "bgn.search('Hello world!')"
   ]
  },
  {
   "cell_type": "code",
   "execution_count": 8,
   "id": "2214d252",
   "metadata": {},
   "outputs": [
    {
     "data": {
      "text/plain": [
       "True"
      ]
     },
     "execution_count": 8,
     "metadata": {},
     "output_type": "execute_result"
    }
   ],
   "source": [
    "bgn.search('he said hello') == None"
   ]
  },
  {
   "cell_type": "code",
   "execution_count": 9,
   "id": "ab6c81d8",
   "metadata": {},
   "outputs": [
    {
     "data": {
      "text/plain": [
       "<re.Match object; span=(16, 17), match='2'>"
      ]
     },
     "execution_count": 9,
     "metadata": {},
     "output_type": "execute_result"
    }
   ],
   "source": [
    "nmr = re.compile(r'\\d$')\n",
    "nmr.search('your number is 42')"
   ]
  },
  {
   "cell_type": "code",
   "execution_count": 10,
   "id": "1b5b0b1a",
   "metadata": {},
   "outputs": [
    {
     "data": {
      "text/plain": [
       "True"
      ]
     },
     "execution_count": 10,
     "metadata": {},
     "output_type": "execute_result"
    }
   ],
   "source": [
    "bgn.search('your number is forty two') == None"
   ]
  },
  {
   "cell_type": "code",
   "execution_count": 11,
   "id": "1505e0c8",
   "metadata": {},
   "outputs": [
    {
     "data": {
      "text/plain": [
       "<re.Match object; span=(0, 10), match='1254696773'>"
      ]
     },
     "execution_count": 11,
     "metadata": {},
     "output_type": "execute_result"
    }
   ],
   "source": [
    "whl = re.compile(r'^\\d+$')\n",
    "whl.search('1254696773')"
   ]
  },
  {
   "cell_type": "code",
   "execution_count": 12,
   "id": "63e4cc3f",
   "metadata": {},
   "outputs": [
    {
     "data": {
      "text/plain": [
       "True"
      ]
     },
     "execution_count": 12,
     "metadata": {},
     "output_type": "execute_result"
    }
   ],
   "source": [
    "whl.search('12454dfgg454654') == None"
   ]
  },
  {
   "cell_type": "code",
   "execution_count": 13,
   "id": "b7dbbbcb",
   "metadata": {},
   "outputs": [
    {
     "data": {
      "text/plain": [
       "True"
      ]
     },
     "execution_count": 13,
     "metadata": {},
     "output_type": "execute_result"
    }
   ],
   "source": [
    "whl.search('12454  gg454654') == None"
   ]
  },
  {
   "cell_type": "code",
   "execution_count": 14,
   "id": "3c2fd00a",
   "metadata": {},
   "outputs": [
    {
     "data": {
      "text/plain": [
       "['cat', 'hat', 'sat', 'lat', 'mat']"
      ]
     },
     "execution_count": 14,
     "metadata": {},
     "output_type": "execute_result"
    }
   ],
   "source": [
    "rgx = re.compile(r'.at')\n",
    "rgx.findall('the cat in the hat sat on the flat mat.')\n"
   ]
  },
  {
   "cell_type": "code",
   "execution_count": 19,
   "id": "4c6a1254",
   "metadata": {},
   "outputs": [
    {
     "data": {
      "text/plain": [
       "'sweigart'"
      ]
     },
     "execution_count": 19,
     "metadata": {},
     "output_type": "execute_result"
    }
   ],
   "source": [
    "nmx = re.compile(r'First name: (.*) last Name: (.*)')\n",
    "nm = nmx.search('First name: A1 last Name: sweigart')\n",
    "nm.group(1)\n",
    "nm.group(2)"
   ]
  },
  {
   "cell_type": "code",
   "execution_count": 21,
   "id": "c77b6ef8",
   "metadata": {},
   "outputs": [
    {
     "data": {
      "text/plain": [
       "'<to serve ma>'"
      ]
     },
     "execution_count": 21,
     "metadata": {},
     "output_type": "execute_result"
    }
   ],
   "source": [
    "nrm = re.compile(r'<.*?>')\n",
    "rm = nrm.search('<to serve man> for dinner.>')\n",
    "rm.group()"
   ]
  },
  {
   "cell_type": "code",
   "execution_count": 22,
   "id": "b1ddb707",
   "metadata": {},
   "outputs": [
    {
     "data": {
      "text/plain": [
       "'<to serve man? for dinner.>'"
      ]
     },
     "execution_count": 22,
     "metadata": {},
     "output_type": "execute_result"
    }
   ],
   "source": [
    "grd = re.compile(r'<.*?>')\n",
    "mo = grd.search('<to serve man? for dinner.>')\n",
    "mo.group()"
   ]
  },
  {
   "cell_type": "markdown",
   "id": "797fcb0d",
   "metadata": {},
   "source": [
    " The ? matches zero or one of the preceding group.\n",
    "The * matches zero or more of the preceding group.\n",
    "The + matches one or more of the preceding group.\n",
    "The {n} matches exactly n of the preceding group.\n",
    "The {n,} matches n or more of the preceding group.\n",
    "The {,m} matches 0 to m of the preceding group.\n",
    "The {n,m} matches at least n and at most m of the preceding group.\n",
    "{n,m}? or *? or +? performs a nongreedy match of the preceding group.\n",
    "^spam means the string must begin with spam.\n",
    "spam$ means the string must end with spam.\n",
    "The . matches any character, except newline characters.\n",
    "\\d , \\w , and \\s match a digit, word, or space character, respectively.\n",
    "\\D , \\W , and \\S match anything except a digit, word, or space character,\n",
    "respectively.\n",
    "[abc] matches any character between the brackets (such as a, b, or c).\n",
    "[^abc] matches any character that isn’t between the brackets."
   ]
  },
  {
   "cell_type": "code",
   "execution_count": 24,
   "id": "434119f5",
   "metadata": {},
   "outputs": [
    {
     "data": {
      "text/plain": [
       "'serve the public trust.'"
      ]
     },
     "execution_count": 24,
     "metadata": {},
     "output_type": "execute_result"
    }
   ],
   "source": [
    "nwr = re.compile('.*')\n",
    "nwr.search('serve the public trust.\\nprotect th innocent\\n uphold the law.').group()"
   ]
  },
  {
   "cell_type": "code",
   "execution_count": 25,
   "id": "709d4667",
   "metadata": {},
   "outputs": [
    {
     "data": {
      "text/plain": [
       "'serve the public trust.\\nprotect the innocent\\nuphold the law.'"
      ]
     },
     "execution_count": 25,
     "metadata": {},
     "output_type": "execute_result"
    }
   ],
   "source": [
    "nwl = re.compile('.*',re.DOTALL)\n",
    "nwl.search('serve the public trust.\\nprotect the innocent\\nuphold the law.').group()"
   ]
  },
  {
   "cell_type": "code",
   "execution_count": 26,
   "id": "48c28567",
   "metadata": {},
   "outputs": [
    {
     "data": {
      "text/plain": [
       "'RoboCop'"
      ]
     },
     "execution_count": 26,
     "metadata": {},
     "output_type": "execute_result"
    }
   ],
   "source": [
    "robocop = re.compile(r'robocop', re.I)\n",
    "robocop.search('RoboCop is part man, part machine, all cop.').group()"
   ]
  },
  {
   "cell_type": "code",
   "execution_count": 27,
   "id": "107edfd2",
   "metadata": {},
   "outputs": [
    {
     "data": {
      "text/plain": [
       "'robocop'"
      ]
     },
     "execution_count": 27,
     "metadata": {},
     "output_type": "execute_result"
    }
   ],
   "source": [
    "robocop.search('Al, why does your programming book talk about robocop so much?').group()"
   ]
  },
  {
   "cell_type": "code",
   "execution_count": 28,
   "id": "0cdf54dc",
   "metadata": {},
   "outputs": [],
   "source": [
    "namesRegex = re.compile(r'Agent \\w+')"
   ]
  },
  {
   "cell_type": "code",
   "execution_count": 29,
   "id": "e9eb7b43",
   "metadata": {},
   "outputs": [
    {
     "data": {
      "text/plain": [
       "'CENSORED gave the secret documents to CENSORED.'"
      ]
     },
     "execution_count": 29,
     "metadata": {},
     "output_type": "execute_result"
    }
   ],
   "source": [
    "namesRegex.sub('CENSORED', 'Agent Alice gave the secret documents to Agent Bob.')"
   ]
  },
  {
   "cell_type": "code",
   "execution_count": 30,
   "id": "d889d9ee",
   "metadata": {},
   "outputs": [],
   "source": [
    "agentNamesRegex = re.compile(r'Agent (\\w)\\w*')"
   ]
  },
  {
   "cell_type": "code",
   "execution_count": 32,
   "id": "e342214c",
   "metadata": {},
   "outputs": [
    {
     "data": {
      "text/plain": [
       "'A**** told C**** that AgentEve knew B**** was a double agent.'"
      ]
     },
     "execution_count": 32,
     "metadata": {},
     "output_type": "execute_result"
    }
   ],
   "source": [
    "agentNamesRegex.sub(r'\\1****', 'Agent Alice told Agent Carol that AgentEve knew Agent Bob was a double agent.')"
   ]
  },
  {
   "cell_type": "code",
   "execution_count": 33,
   "id": "9d32b405",
   "metadata": {},
   "outputs": [],
   "source": [
    "phoneRegex = re.compile(r'((\\d{3}|\\(\\d{3}\\))?(\\s|-|\\.)?\\d{3}(\\s|-|\\.)\\d{4}(\\s*(ext|x|ext.)\\s*\\d{2,5})?)')"
   ]
  },
  {
   "cell_type": "code",
   "execution_count": 34,
   "id": "e03b464b",
   "metadata": {},
   "outputs": [],
   "source": [
    "phoneRegex = re.compile(r'''(\n",
    "(\\d{3}|\\(\\d{3}\\))?\n",
    "(\\s|-|\\.)?\n",
    "\\d{3}\n",
    "(\\s|-|\\.)\n",
    "\\d{4}\n",
    "(\\s*(ext|x|ext.)\\s*\\d{2,5})?\n",
    ")''', re.VERBOSE)"
   ]
  },
  {
   "cell_type": "code",
   "execution_count": 35,
   "id": "1a81ea69",
   "metadata": {},
   "outputs": [],
   "source": [
    "someRegexValue = re.compile('foo', re.IGNORECASE | re.DOTALL)"
   ]
  },
  {
   "cell_type": "code",
   "execution_count": 36,
   "id": "d2035259",
   "metadata": {},
   "outputs": [],
   "source": [
    "someRegexValue = re.compile('foo', re.IGNORECASE | re.DOTALL | re.VERBOSE)"
   ]
  },
  {
   "cell_type": "code",
   "execution_count": 45,
   "id": "e4b506c8",
   "metadata": {},
   "outputs": [],
   "source": [
    "import pyperclip, re"
   ]
  },
  {
   "cell_type": "code",
   "execution_count": 46,
   "id": "8b1507f3",
   "metadata": {},
   "outputs": [],
   "source": [
    "# TODO: Create email regex.\n",
    "# TODO: Find matches in clipboard text.\n",
    "# TODO: Copy results to the clipboard."
   ]
  },
  {
   "cell_type": "code",
   "execution_count": 47,
   "id": "66fcef42",
   "metadata": {},
   "outputs": [],
   "source": [
    "#create email regex\n",
    "emailRegex = re.compile(r'''([a-zA-z0-9.%+-]+@[a-zA-Z0-9.-]+(\\.[a-zA-Z{2,4}]))''',re.VERBOSE)"
   ]
  },
  {
   "cell_type": "code",
   "execution_count": 48,
   "id": "0f07d238",
   "metadata": {},
   "outputs": [
    {
     "name": "stdout",
     "output_type": "stream",
     "text": [
      "No phone numbers or email addresses found.\n"
     ]
    }
   ],
   "source": [
    "text = str(pyperclip.paste())\n",
    "matches = []\n",
    "for groups in phoneRegex.findall(text):\n",
    "    phoneNum = '-'.join([groups[1], groups[3], groups[5]])\n",
    "    if groups[8] != '':\n",
    "         phoneNum += ' x' + groups[8]\n",
    "    matches.append(phoneNum)\n",
    "for groups in emailRegex.findall(text):\n",
    "    matches.append(groups[0])\n",
    "if len(matches) > 0:\n",
    "    pyperclip.copy('\\n'.join(matches))\n",
    "    print('Copied to clipboard:')\n",
    "    print('\\n'.join(matches))\n",
    "else:\n",
    "    print('No phone numbers or email addresses found.')"
   ]
  },
  {
   "cell_type": "code",
   "execution_count": null,
   "id": "4cb7dcd6",
   "metadata": {},
   "outputs": [],
   "source": []
  }
 ],
 "metadata": {
  "kernelspec": {
   "display_name": "Python 3 (ipykernel)",
   "language": "python",
   "name": "python3"
  },
  "language_info": {
   "codemirror_mode": {
    "name": "ipython",
    "version": 3
   },
   "file_extension": ".py",
   "mimetype": "text/x-python",
   "name": "python",
   "nbconvert_exporter": "python",
   "pygments_lexer": "ipython3",
   "version": "3.8.10"
  }
 },
 "nbformat": 4,
 "nbformat_minor": 5
}
